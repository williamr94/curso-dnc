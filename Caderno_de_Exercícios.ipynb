{
  "nbformat": 4,
  "nbformat_minor": 0,
  "metadata": {
    "colab": {
      "provenance": [],
      "collapsed_sections": [
        "yE28BuORRA8s",
        "FjCfNgW2S9__",
        "0fVx54qd9osm"
      ],
      "mount_file_id": "1H-Ch17HuLHAicGroCmKey6-tEUQMBZ6m",
      "authorship_tag": "ABX9TyPj9B+lhDMrw3BIy5w5IkgD",
      "include_colab_link": true
    },
    "kernelspec": {
      "name": "python3",
      "display_name": "Python 3"
    },
    "language_info": {
      "name": "python"
    }
  },
  "cells": [
    {
      "cell_type": "markdown",
      "metadata": {
        "id": "view-in-github",
        "colab_type": "text"
      },
      "source": [
        "<a href=\"https://colab.research.google.com/github/williamr94/curso-dnc/blob/main/Caderno_de_Exerc%C3%ADcios.ipynb\" target=\"_parent\"><img src=\"https://colab.research.google.com/assets/colab-badge.svg\" alt=\"Open In Colab\"/></a>"
      ]
    },
    {
      "cell_type": "markdown",
      "source": [
        "## Exercício 1"
      ],
      "metadata": {
        "id": "yE28BuORRA8s"
      }
    },
    {
      "cell_type": "code",
      "source": [
        "# Exercicio 1 Parte 1\n",
        "\n",
        "nomePrimeiro = 'Everton'\n",
        "nomeMeio = 'Garcia'\n",
        "nomeUltimo = 'Menezes'\n",
        "print(nomePrimeiro, nomeMeio, nomeUltimo + ', seja muito bem vindo a DNC.')"
      ],
      "metadata": {
        "colab": {
          "base_uri": "https://localhost:8080/"
        },
        "id": "zDnymieWRE3j",
        "outputId": "22e0000c-a87c-41a3-a28c-6ad6cfffc490"
      },
      "execution_count": null,
      "outputs": [
        {
          "output_type": "stream",
          "name": "stdout",
          "text": [
            "Everton Garcia Menezes, seja muito bem vindo a DNC.\n"
          ]
        }
      ]
    },
    {
      "cell_type": "code",
      "source": [
        "# Exercicio 1 Parte 2\n",
        "\n",
        "primeiro_nome = input('Qual o seu primeiro nome?')\n",
        "nome_meio = input('Qual o seu nome do meio?')\n",
        "ultimo_nome = input('Qual o seu último nome?')\n",
        "\n",
        "print(primeiro_nome, nome_meio, ultimo_nome +', seja muito bem vindo a DNC.')\n"
      ],
      "metadata": {
        "colab": {
          "base_uri": "https://localhost:8080/"
        },
        "id": "C4OdkouZRxKp",
        "outputId": "82dd6a50-961e-4dea-e321-1b516f6ece4b"
      },
      "execution_count": null,
      "outputs": [
        {
          "output_type": "stream",
          "name": "stdout",
          "text": [
            "Qual o seu primeiro nome?1\n",
            "Qual o seu nome do meio?2\n",
            "Qual o seu último nome?3\n",
            "1 2 3, seja muito bem vindo a DNC.\n"
          ]
        }
      ]
    },
    {
      "cell_type": "markdown",
      "source": [
        "## Exercício 2"
      ],
      "metadata": {
        "id": "FjCfNgW2S9__"
      }
    },
    {
      "cell_type": "code",
      "source": [
        "# Exercicio 2 Parte 1\n",
        "\n",
        "cliente_nome = 'BatataCorp'\n",
        "cliente_idade = 28\n",
        "print('O nome do clinete é:', cliente_nome)\n",
        "print('A idade do clinete é:', cliente_idade)"
      ],
      "metadata": {
        "colab": {
          "base_uri": "https://localhost:8080/"
        },
        "id": "ysOu7eEnTAoW",
        "outputId": "ffd23d0f-5190-42e6-eaf7-c8187f19cb87"
      },
      "execution_count": null,
      "outputs": [
        {
          "output_type": "stream",
          "name": "stdout",
          "text": [
            "O nome do clinete é: BatataCorp\n",
            "A idade do clinete é: 28\n"
          ]
        }
      ]
    },
    {
      "cell_type": "code",
      "source": [
        "# Exercicio 2 Parte 2\n",
        "\n",
        "cliente_nome = input('Qual o seu nome?')\n",
        "cliente_idade = input('Qual a sua idade?')\n",
        "print('O nome do cliente é:', cliente_nome)\n",
        "print('A idade do cliente é:', cliente_idade)"
      ],
      "metadata": {
        "colab": {
          "base_uri": "https://localhost:8080/"
        },
        "id": "VjRue57rTZte",
        "outputId": "55946200-e44d-4d22-f04a-0047b85c8fbc"
      },
      "execution_count": null,
      "outputs": [
        {
          "output_type": "stream",
          "name": "stdout",
          "text": [
            "Qual o seu nome?andré\n",
            "Qual a sua idade?3\n",
            "O nome do clinete é: andré\n",
            "A idade do clinete é: 3\n"
          ]
        }
      ]
    },
    {
      "cell_type": "code",
      "source": [
        "# Exercicio 2 Parte 3\n",
        "\n",
        "produto_valor = 25.3\n",
        "cliente_premium = True\n",
        "\n",
        "print('O valor do produto é:', produto_valor)\n",
        "print('O tipo da variável produto_valor é:', type(produto_valor))\n",
        "print('O cliente é premium?', cliente_premium)\n",
        "print('O tipo da variável cliente_premium é:', type(cliente_premium))"
      ],
      "metadata": {
        "colab": {
          "base_uri": "https://localhost:8080/"
        },
        "id": "8htzS7ngTzxU",
        "outputId": "838b18d9-d8ec-4396-80e2-7658187818a0"
      },
      "execution_count": null,
      "outputs": [
        {
          "output_type": "stream",
          "name": "stdout",
          "text": [
            "O valor do produto é: 25.3\n",
            "O tipo da variável produto_valor é: <class 'float'>\n",
            "O cliente é premium? True\n",
            "O tipo da variável cliente_premium é: <class 'bool'>\n"
          ]
        }
      ]
    },
    {
      "cell_type": "markdown",
      "source": [
        "## Exercícios Operadores"
      ],
      "metadata": {
        "id": "0fVx54qd9osm"
      }
    },
    {
      "cell_type": "code",
      "source": [
        "# Exercício 1 - Operadores\n",
        "\n",
        "n1 = int(input('1º numero:'))\n",
        "n2 = int(input('2º numero:'))\n",
        "\n",
        "print('N1:',n1)\n",
        "print('N2:',n2)\n",
        "print(n1+n2)\n",
        "print(n1-n2)\n",
        "print(n1*n2)\n",
        "print(n1/n2)\n",
        "print(n1%n2)\n",
        "print(n1**n2)"
      ],
      "metadata": {
        "colab": {
          "base_uri": "https://localhost:8080/"
        },
        "id": "QSwFRIDK90ik",
        "outputId": "93d5b4bd-bf7d-4788-8e07-f50aae023a9b"
      },
      "execution_count": null,
      "outputs": [
        {
          "output_type": "stream",
          "name": "stdout",
          "text": [
            "1º numero:7\n",
            "2º numero:5\n",
            "N1: 7\n",
            "N2: 5\n",
            "12\n",
            "2\n",
            "35\n",
            "1.4\n",
            "2\n",
            "16807\n"
          ]
        }
      ]
    },
    {
      "cell_type": "code",
      "source": [
        "# Exercício 2 - Operadores\n",
        "\n",
        "n1 = int(input('Digite um número inteiro:'))\n",
        "\n",
        "print(n1*0)\n",
        "print(n1*1)\n",
        "print(n1*2)\n",
        "print(n1*3)\n",
        "print(n1*4)\n",
        "print(n1*5)\n",
        "print(n1*6)\n",
        "print(n1*7)\n",
        "print(n1*8)\n",
        "print(n1*9)\n",
        "print(n1*10)"
      ],
      "metadata": {
        "colab": {
          "base_uri": "https://localhost:8080/"
        },
        "id": "0kedFi52_LV9",
        "outputId": "7e07f185-6ebf-4848-ff25-194adfa21071"
      },
      "execution_count": null,
      "outputs": [
        {
          "output_type": "stream",
          "name": "stdout",
          "text": [
            "Digite um número inteiro:10\n",
            "0\n",
            "10\n",
            "20\n",
            "30\n",
            "40\n",
            "50\n",
            "60\n",
            "70\n",
            "80\n",
            "90\n",
            "100\n"
          ]
        }
      ]
    },
    {
      "cell_type": "code",
      "source": [
        "# Exercício 3 - Operadores\n",
        "\n",
        "n1 = int(input('Quantos km foram percorridos? '))\n",
        "n2 = int(input('Quantos Litros de combustível foram gastos? '))\n",
        "\n",
        "print('O seu carro faz: {:.2f} km/l'.format(n1/n2))"
      ],
      "metadata": {
        "colab": {
          "base_uri": "https://localhost:8080/"
        },
        "id": "CFhzD3WGAnIu",
        "outputId": "41ce9d76-1842-488f-b5fa-9e9e0a9170d3"
      },
      "execution_count": null,
      "outputs": [
        {
          "output_type": "stream",
          "name": "stdout",
          "text": [
            "Quantos km foram percorridos? 200\n",
            "Quantos Litros de combustível foram gastos? 12\n",
            "O seu carro faz: 16.67 km/l\n"
          ]
        }
      ]
    },
    {
      "cell_type": "markdown",
      "source": [
        "# Exercícios Condicionais"
      ],
      "metadata": {
        "id": "55p-YeOLxeo7"
      }
    },
    {
      "cell_type": "code",
      "source": [
        "a = input('Digite um numero:')\n",
        "\n",
        "\n",
        "if a.isnumeric() == True:\n",
        "  print('Esse input é um número')\n",
        "else: \n",
        "    if a.isalpha() == True:\n",
        "      print('Esse input é um texto')\n",
        "    else: \n",
        "      print('Esse input é alfanumérico')"
      ],
      "metadata": {
        "colab": {
          "base_uri": "https://localhost:8080/"
        },
        "id": "NKSOYSvaxuJ5",
        "outputId": "68278f93-ae0f-4766-9271-1f2d798842af"
      },
      "execution_count": null,
      "outputs": [
        {
          "output_type": "stream",
          "name": "stdout",
          "text": [
            "Digite um numero:3,6\n",
            "Esse input é alfanumérico\n"
          ]
        }
      ]
    },
    {
      "cell_type": "code",
      "source": [
        "a = int(input('1º número:'))\n",
        "\n",
        "\n",
        "if a % 2 == 0:\n",
        "  print('Este número é par')\n",
        "else: \n",
        "  print('Este número é impar')"
      ],
      "metadata": {
        "colab": {
          "base_uri": "https://localhost:8080/"
        },
        "id": "qxgJPkks9wV8",
        "outputId": "04b845cd-04e8-4afe-b169-9b64ab5c7151"
      },
      "execution_count": null,
      "outputs": [
        {
          "output_type": "stream",
          "name": "stdout",
          "text": [
            "1º número:4\n",
            "Este número é par\n"
          ]
        }
      ]
    },
    {
      "cell_type": "code",
      "source": [
        "a = int(input('1º número:'))\n",
        "b = int(input('2º número:'))\n",
        "\n",
        "if a%b == 0:\n",
        "  print('{} / {}'.format(a,b))\n",
        "  print('{} é divisível por {}'.format(a,b))\n",
        "else:\n",
        "  print('{} / {}'.format(a,b))\n",
        "  print('{} não é divisível por {}'.format(a,b))"
      ],
      "metadata": {
        "colab": {
          "base_uri": "https://localhost:8080/"
        },
        "id": "skxx2jPB_rIO",
        "outputId": "a7a3cf1d-b20f-4263-d345-c147652e35f2"
      },
      "execution_count": null,
      "outputs": [
        {
          "output_type": "stream",
          "name": "stdout",
          "text": [
            "1º número:4\n",
            "2º número:2\n",
            "4 / 2\n",
            "4 é divisível por 2\n"
          ]
        }
      ]
    },
    {
      "cell_type": "markdown",
      "source": [
        "# Desafio - Calculadora"
      ],
      "metadata": {
        "id": "iFYyxWKvBLEk"
      }
    },
    {
      "cell_type": "code",
      "source": [
        "# Cabeçalho\n",
        "print('-'*20)\n",
        "print('Calculadora Python')\n",
        "print('Dev.: William Ramos')\n",
        "print('-'*20)\n",
        "\n",
        "a = float(input('1º número:'))\n",
        "b = float(input('2º número:'))\n",
        "print(' ')\n",
        "print('Selecione a Operação')\n",
        "print('1. Soma')\n",
        "print('2. Subtração')\n",
        "print('3. Divisão')\n",
        "print('4. Multiplicação')\n",
        "print('5. Potência')\n",
        "print(' ')\n",
        "operacao = int(input('Digite o número da operação:'))\n",
        "\n",
        "if operacao == 1:\n",
        "  print(a+b)\n",
        "else:\n",
        "  if operacao == 2:\n",
        "    print(a-b)\n",
        "  else:\n",
        "    if operacao == 3:\n",
        "      print(a/b)\n",
        "    else:\n",
        "      if operacao == 4:\n",
        "        print(a*b)\n",
        "      else:\n",
        "        if operacao == 5:\n",
        "          print(a**b)\n"
      ],
      "metadata": {
        "colab": {
          "base_uri": "https://localhost:8080/"
        },
        "id": "hBlXCvjRBN1z",
        "outputId": "257aacc9-63f9-4d55-8a4f-7ee0fbfcd5b3"
      },
      "execution_count": null,
      "outputs": [
        {
          "output_type": "stream",
          "name": "stdout",
          "text": [
            "--------------------\n",
            "Calculadora Python\n",
            "Dev.: William Ramos\n",
            "--------------------\n",
            "1º número:5\n",
            "2º número:2\n",
            " \n",
            "Selecione a Operação\n",
            "1. Soma\n",
            "2. Subtração\n",
            "3. Divisão\n",
            "4. Multiplicação\n",
            "5. Potência\n",
            " \n",
            "Digite o número da operação:4\n",
            "10.0\n"
          ]
        }
      ]
    },
    {
      "cell_type": "markdown",
      "source": [
        "# Case 1 - Exercícios\n"
      ],
      "metadata": {
        "id": "y3U_BqtUpNGw"
      }
    },
    {
      "cell_type": "code",
      "source": [
        "## Exercício 1\n",
        "# Seu primeiro desafio é desenvolver um programa para um depósito de bebidas que\n",
        "# valide venda de bebidas para maiores de idade (maior ou igual 18 anos) no mercado,\n",
        "# o programa deve receber do usuário os valores do nome e ano que ele nasceu e retornar\n",
        "# se ele pode comprar bebidas.\n",
        "\n",
        "from datetime import date\n",
        "\n",
        "nome = input(\"Olá! Qual o seu nome? \")\n",
        "ano_nascimento = int(input(\"Em que ano você nasceu? \"))\n",
        "ano_atual = int(date.today().year)\n",
        "\n",
        "if (ano_atual - ano_nascimento) < 18:\n",
        "  print('Só um instante.. estamos analisando a sua idade! =)')\n",
        "  print('Você é menor de idade! Você não pode comprar bebida alcóolica!')\n",
        "else: \n",
        "  print('Só um instante.. estamos analisando a sua idade! =)')\n",
        "  print('Você é maior de idade! Você pode comprar bebida alcóolica!')"
      ],
      "metadata": {
        "colab": {
          "base_uri": "https://localhost:8080/"
        },
        "id": "bDDOkRNjpTTH",
        "outputId": "64d1fed2-716a-4e8a-a2d2-1b091331fe21"
      },
      "execution_count": null,
      "outputs": [
        {
          "output_type": "stream",
          "name": "stdout",
          "text": [
            "Olá! Qual o seu nome? William\n",
            "Em que ano você nasceu? 1994\n",
            "Só um instante.. estamos analisando a sua idade! =)\n",
            "Você é maior de idade! Você pode comprar bebida alcóolica!\n"
          ]
        }
      ]
    },
    {
      "cell_type": "code",
      "source": [
        "## Exercício 2\n",
        "# Esse bimestre na faculdade você precisa tirar nota 8 de média para\n",
        "# passar na matéria, desenvolva um script que leia a nota de suas\n",
        "# últimas 3 provas, tire a média delas e verifique se você passou.\n",
        "\n",
        "p1 = float(input('Quanto você tirou na P1? '))\n",
        "p2 = float(input('Quanto você tirou na P2? '))\n",
        "p3 = float(input('Quanto você tirou na P3? '))\n",
        "media = (p1+p2+p3)/3\n",
        "\n",
        "if media < 8:\n",
        "  print('Você foi reprovado. :(')\n",
        "  print('A sua média foi {:.2f}.'.format(media))\n",
        "  print('A média para ser aprovado é 8.0.')\n",
        "else:\n",
        "  print('Você foi aprovado. :)')\n",
        "  print('A sua média foi {:.2f}.'.format(media))"
      ],
      "metadata": {
        "colab": {
          "base_uri": "https://localhost:8080/"
        },
        "id": "B6BI5zlrsTWl",
        "outputId": "78c74149-4730-4b52-9412-b80c622981b0"
      },
      "execution_count": null,
      "outputs": [
        {
          "output_type": "stream",
          "name": "stdout",
          "text": [
            "Quanto você tirou na P1? 10\n",
            "Quanto você tirou na P2? 10\n",
            "Quanto você tirou na P3? 1\n",
            "Você foi reprovado. :(\n",
            "A sua média foi 7.00.\n",
            "A média para ser aprovado é 8.0\n"
          ]
        }
      ]
    },
    {
      "cell_type": "code",
      "source": [
        "## Exercício 3\n",
        "# A fisioterapeuta que você vai gosta muito de brincar com números, e\n",
        "# pediu para você criar um sistema que verifique se a altura inserida é\n",
        "# par ou impar.\n",
        "\n",
        "altura = float(input('altura(m): '))\n",
        "\n",
        "if ((altura*100)%2)==0:\n",
        "  print('A altura inserida é um número par!')\n",
        "else:\n",
        "  print('A altura inserida é um número impar!')"
      ],
      "metadata": {
        "colab": {
          "base_uri": "https://localhost:8080/"
        },
        "id": "rwnN0Bq9u5b5",
        "outputId": "f33af9f9-9a47-4c24-f8ab-abeb55d4b3d9"
      },
      "execution_count": null,
      "outputs": [
        {
          "output_type": "stream",
          "name": "stdout",
          "text": [
            "altura(m): 1.72\n",
            "A altura inserida é um número par!\n"
          ]
        }
      ]
    },
    {
      "cell_type": "code",
      "source": [
        "## Exercício 4\n",
        "# Faça um script que você coloque a quantidade de dias e descubra em\n",
        "# qual trimestre esse dia está no ano.\n",
        "\n",
        "dias = int(input('Qual a quantidade de dias? '))\n",
        "\n",
        "if dias <=89:\n",
        "  print('1º Trimestre.')\n",
        "else:\n",
        "  if dias <=179:\n",
        "    print('2º Trimestre.')\n",
        "  else:\n",
        "    if dias <=270:\n",
        "      print('3º Trimestre.')\n",
        "    else:\n",
        "      print('4º Trimestre.')"
      ],
      "metadata": {
        "colab": {
          "base_uri": "https://localhost:8080/"
        },
        "id": "2y1EzsBCwV4m",
        "outputId": "a0df7eee-00de-48b5-91c8-ca025002d525"
      },
      "execution_count": null,
      "outputs": [
        {
          "output_type": "stream",
          "name": "stdout",
          "text": [
            "Qual a quantidade de dias? 330\n",
            "4º Trimestre.\n"
          ]
        }
      ]
    },
    {
      "cell_type": "code",
      "source": [
        "## Exercício 5\n",
        "# Desenvolva um sistema que leia 3 números e diga qual é o maior (se\n",
        "# houver empate, exiba os empatados).\n",
        "\n",
        "n1 = float(input('1º número: '))\n",
        "n2 = float(input('2º número: '))\n",
        "n3 = float(input('3º número: '))\n",
        "\n",
        "if n1>n2 and n1>n3:\n",
        "  print('O maior valor é: n1')\n",
        "\n",
        "elif n2>n3 and n2>n1:\n",
        "  print('O maior valor é: n2')\n",
        "\n",
        "elif n3>n1 and n3>n2:\n",
        "  print('O maior valor é: n3')\n",
        "\n",
        "elif n1==n2 and n1>n3:\n",
        "  print('Os maiores valores são: n1 e n2')\n",
        "\n",
        "elif n1==n3 and n1>n2:\n",
        "  print('Os maiores valores são: n1 e n3')\n",
        "\n",
        "elif n2==n3 and n2>n1:\n",
        "  print('Os maiores valores são: n2 e n3')\n",
        "\n",
        "elif n1==n2==n3:\n",
        "  print('Os maiores valores são: n1, n2 e n3')"
      ],
      "metadata": {
        "colab": {
          "base_uri": "https://localhost:8080/"
        },
        "id": "sJrGWP90zS8u",
        "outputId": "b6deb22b-4597-425b-9456-5fb4a1ba8928"
      },
      "execution_count": null,
      "outputs": [
        {
          "name": "stdout",
          "output_type": "stream",
          "text": [
            "Digite o 1º número: 10\n",
            "Digite o 2º número: 10\n",
            "Digite o 3º número: 10\n"
          ]
        }
      ]
    },
    {
      "cell_type": "markdown",
      "source": [
        "# Exercícios Repetições\n"
      ],
      "metadata": {
        "id": "Mj-y4bDku8DC"
      }
    },
    {
      "cell_type": "code",
      "source": [
        "# Exercício 1\n",
        "n1 = int(input('Qual tabuada você quer consultar? '))\n",
        "passo = range(1,10+1)\n",
        "for i in passo:\n",
        "  resultado = n1*i\n",
        "  print('{}*{}={}'.format(n1,i,resultado))\n"
      ],
      "metadata": {
        "colab": {
          "base_uri": "https://localhost:8080/"
        },
        "id": "eJqlne94vFSR",
        "outputId": "f0bcb55f-96d9-4118-dd00-c9466db43505"
      },
      "execution_count": null,
      "outputs": [
        {
          "output_type": "stream",
          "name": "stdout",
          "text": [
            "Qual tabuada você quer consultar? 7\n",
            "7*1=7\n",
            "7*2=14\n",
            "7*3=21\n",
            "7*4=28\n",
            "7*5=35\n",
            "7*6=42\n",
            "7*7=49\n",
            "7*8=56\n",
            "7*9=63\n",
            "7*10=70\n"
          ]
        }
      ]
    },
    {
      "cell_type": "code",
      "source": [
        "# Exercício 2\n",
        "passo = range(1,10 +1)\n",
        "menor = 0\n",
        "maior = 0\n",
        "soma = 0\n",
        "\n",
        "\n",
        "for i in passo:\n",
        "  n = int(input('Digite o {}° valor: '.format(i)))\n",
        "  if i == 1:\n",
        "    menor = n\n",
        "    maior = n\n",
        "  else:\n",
        "    if n < menor:\n",
        "      menor = n\n",
        "    elif n > maior:\n",
        "      maior =n\n",
        "  soma += n\n",
        "\n",
        "media = soma / i\n",
        "\n",
        "print('\\nMenor: {}\\nMaior: {}\\nMédia: {}'.format(menor, maior, media))\n"
      ],
      "metadata": {
        "id": "T4P0MG5xxOPK",
        "colab": {
          "base_uri": "https://localhost:8080/"
        },
        "outputId": "8b4f75f9-12e5-4f38-bb48-ab2d96030989"
      },
      "execution_count": null,
      "outputs": [
        {
          "output_type": "stream",
          "name": "stdout",
          "text": [
            "Digite o 1° valor: 15\n",
            "Digite o 2° valor: 9\n",
            "Digite o 3° valor: 5\n",
            "Digite o 4° valor: 100\n",
            "Digite o 5° valor: 27\n",
            "Digite o 6° valor: 42\n",
            "Digite o 7° valor: 18\n",
            "Digite o 8° valor: 91\n",
            "Digite o 9° valor: 73\n",
            "Digite o 10° valor: 64\n",
            "\n",
            "Menor: 5\n",
            "Maior: 100\n",
            "Média: 44.4\n"
          ]
        }
      ]
    },
    {
      "cell_type": "code",
      "source": [
        "# Exercício 3\n",
        "#Faça um programa que calcula a Sequência de Fibonacci de N números, onde N é dado pelo usuário.\n",
        "#Essa sequência é construída começando com os números 0 e 1. O próximo número da sequência é sempre a soma dos 2 anteriores.\n",
        "#Sequência: 0 - 1 - 1 - 2 - 3 - 5 - 8 - 13 - 21 - ...\n",
        "\n",
        "n = int(input('Qual o número da Sequência Fibonacci você deseja conhecer? '))\n",
        "\n",
        "n1 = 0\n",
        "n2 = 1\n",
        "aux = 0\n",
        "i= 2\n",
        "if n == 1:\n",
        "  print(n1)\n",
        "elif n == 2: \n",
        "  print(n1)\n",
        "  print(n2)\n",
        "else: \n",
        "  print(n1)\n",
        "  print(n2)\n",
        "\n",
        "  while i < n:\n",
        "    aux = n1+n2\n",
        "    n1=n2\n",
        "    n2=aux\n",
        "    print(aux)\n",
        "    i+=1\n"
      ],
      "metadata": {
        "colab": {
          "base_uri": "https://localhost:8080/"
        },
        "id": "V5WM88cYQZoD",
        "outputId": "ae4730d0-4a11-4c2c-aaf7-63012d91324f"
      },
      "execution_count": null,
      "outputs": [
        {
          "output_type": "stream",
          "name": "stdout",
          "text": [
            "Qual o número da Sequência Fibonacci você deseja conhecer? 7\n",
            "0\n",
            "1\n",
            "1\n",
            "2\n",
            "3\n",
            "5\n",
            "8\n"
          ]
        }
      ]
    },
    {
      "cell_type": "markdown",
      "source": [
        "# Exercícios Tuplas"
      ],
      "metadata": {
        "id": "PIFe_rxeq83P"
      }
    },
    {
      "cell_type": "code",
      "source": [
        "# Exercícío 1\n",
        "\n",
        "#Faça um programa que:\n",
        "#O usuário digita uma comida e seu programa diz em qual posição do cardápio esse item está\n",
        "#Printe os itens em ordem alfabética para o usuário\n",
        "\n",
        "t1 = ('Doce', 'Churrasco', 'Bala ', 'Tapioca', 'Pizza ', 'Feijão ', 'Arroz ', 'Açaí ', 'Paçoca ', 'Acarajé', 'Pamonha', 'Dobradinha', 'Rapadura')\n",
        "n1 = input('Qual comida você deseja saber a posição? ')\n",
        "print(t1.index(n1))\n",
        "print(sorted(t1))\n"
      ],
      "metadata": {
        "colab": {
          "base_uri": "https://localhost:8080/"
        },
        "id": "hyBqfPcJrAIm",
        "outputId": "9d690a2d-1496-4b20-ac67-5129da338a2c"
      },
      "execution_count": null,
      "outputs": [
        {
          "output_type": "stream",
          "name": "stdout",
          "text": [
            "Qual comida você deseja saber a posição? Pamonha\n",
            "10\n",
            "['Acarajé', 'Arroz ', 'Açaí ', 'Bala ', 'Churrasco', 'Dobradinha', 'Doce', 'Feijão ', 'Pamonha', 'Paçoca ', 'Pizza ', 'Rapadura', 'Tapioca']\n"
          ]
        }
      ]
    },
    {
      "cell_type": "code",
      "source": [
        "# Exercicio 2\n",
        "\n",
        "#Os dados estão organizados de forma que tem o valor do produto e logo após o seu preço. Faça um programa que:\n",
        "#Mostre o cardápio de forma organizada\n",
        "\n",
        "t1 = ('Doce', 2.3, 'Bala ', 0.15, 'Pizza ', 28.9, 'Arroz ', 4.5, 'Paçoca ', 0.5, 'Pamonha', 5.4)\n",
        "\n",
        "print('{:-^40}'.format(''))\n",
        "print('{:-^40}'.format(' Cardápio '))\n",
        "print('{:-^40}'.format(''))\n",
        "\n",
        "for i in range(0,len(t1),2):\n",
        "    print('{0:.<30} : R$ {1:5.2f}'.format(t1[i],t1[i+1]))\n",
        "print('{:-^40}'.format(''))"
      ],
      "metadata": {
        "colab": {
          "base_uri": "https://localhost:8080/"
        },
        "id": "HtZ9QzXjrDQO",
        "outputId": "998fc7c8-1414-4721-f0d2-ab56d176bab6"
      },
      "execution_count": null,
      "outputs": [
        {
          "output_type": "stream",
          "name": "stdout",
          "text": [
            "----------------------------------------\n",
            "--------------- Cardápio ---------------\n",
            "----------------------------------------\n",
            "Doce.......................... : R$  2.30\n",
            "Bala ......................... : R$  0.15\n",
            "Pizza ........................ : R$ 28.90\n",
            "Arroz ........................ : R$  4.50\n",
            "Paçoca ....................... : R$  0.50\n",
            "Pamonha....................... : R$  5.40\n",
            "----------------------------------------\n"
          ]
        }
      ]
    },
    {
      "cell_type": "code",
      "source": [
        "# Exercício 3\n",
        "#Dado a mesma tupla do exercício anterior faça um programa que:\n",
        "#O usuário visualiza o cardápio e digita qual item ele quer comprar. A seguir pergunta se ele quer algo a mais. Caso ele queira vai somando todos os valores do pedido numa variável soma.\n",
        "#No final printe para o usuário o valor total da conta dele\n",
        "\n",
        "t1 = ('Doce', 02.3, 'Bala', 00.15, 'Pizza', 28.9, 'Arroz', 04.5, 'Paçoca', 00.5, 'Pamonha', 05.4)\n",
        "soma = 0\n",
        "pedido = ''\n",
        "k = 's'\n",
        "n = True\n",
        "\n",
        "print('{:-^46}'.format(''))\n",
        "print('{:-^46}'.format(' Cardápio '))\n",
        "print('{:-^46}'.format(''))\n",
        "\n",
        "\n",
        "for i in range(0,len(t1),2):\n",
        "  print('{0:.<34} : R$  {1:5.2f}'.format(t1[i],t1[i+1]))\n",
        "\n",
        "print('{:-^46}'.format(''))\n",
        "\n",
        "while n:\n",
        "  pedido = str(input('O que deseja pedir?'))\n",
        "  soma+=t1[t1.index(pedido)+1]\n",
        "  k = input('Deseja pedir algo mais? ')\n",
        "  if k == 's' or k =='S':\n",
        "    n = True\n",
        "  else:  \n",
        "    n = False\n",
        "\n",
        "print('Seu pedido resultou em uma conta de: R$ {0:6.2f}'.format(soma))"
      ],
      "metadata": {
        "colab": {
          "base_uri": "https://localhost:8080/"
        },
        "id": "mpJdhweMxhLP",
        "outputId": "2a867baa-2664-455b-d5d2-8e5a8da66b73"
      },
      "execution_count": null,
      "outputs": [
        {
          "output_type": "stream",
          "name": "stdout",
          "text": [
            "----------------------------------------------\n",
            "------------------ Cardápio ------------------\n",
            "----------------------------------------------\n",
            "Doce.............................. : R$   2.30\n",
            "Bala.............................. : R$   0.15\n",
            "Pizza............................. : R$  28.90\n",
            "Arroz............................. : R$   4.50\n",
            "Paçoca............................ : R$   0.50\n",
            "Pamonha........................... : R$   5.40\n",
            "----------------------------------------------\n",
            "O que deseja pedir?Doce\n",
            "Deseja pedir algo mais? s\n",
            "O que deseja pedir?Paçoca\n",
            "Deseja pedir algo mais? n\n",
            "Seu pedido resultou em uma conta de: R$   2.80\n"
          ]
        }
      ]
    },
    {
      "cell_type": "markdown",
      "source": [
        "# Exercícios Lista Simples"
      ],
      "metadata": {
        "id": "I4U2zuZemOof"
      }
    },
    {
      "cell_type": "code",
      "source": [
        "# Exercício 1\n",
        "#Calcule e mostre para o usuário o valor total da compra dele sendo \n",
        "#que o valor total será a soma da multiplicação do preço do produto pela quantidade comprada\n",
        "\n",
        "preco = (10.9, 5.40, 8.30, 3.40)\n",
        "qtdComprada = [0, 3, 2, 4]\n",
        "soma = 0\n",
        "valor = 0\n",
        "for i in preco:\n",
        "  soma+=(i*qtdComprada[preco.index(i)])\n",
        "\n",
        "print('Total da compra: R$ {0:4.2f}'.format(soma))"
      ],
      "metadata": {
        "colab": {
          "base_uri": "https://localhost:8080/"
        },
        "id": "uJQRPly8-eKQ",
        "outputId": "baa74e8d-2af6-459b-dba0-193d36f1f5af"
      },
      "execution_count": null,
      "outputs": [
        {
          "output_type": "stream",
          "name": "stdout",
          "text": [
            "Total da compra: R$ 46.40\n"
          ]
        }
      ]
    },
    {
      "cell_type": "code",
      "source": [
        "#Exercício 2\n",
        "#Considerando o exercício anterior e considerando que as posições das listas acima são os preços respectivos de:\n",
        "#Lanche; Refri; Batata; Bombom\n",
        "#Peça para o usuário informar a quantidade de cada produto que ele irá comprar para depois mostrar o valor total da conta dele.\n",
        "\n",
        "t1 = ('Lanche', 10.9, 'Refri', 5.40, 'Batata', 8.30, 'Bombom', 3.40 )\n",
        "\n",
        "qtdComprada = []\n",
        "soma = 0\n",
        "aux = 0\n",
        "for i in range(1,len(t1), 2):\n",
        "  qtdComprada.append(int(input('Entre com a quantidade de {}: '.format(t1[i-1]))))\n",
        "  soma+=(t1[i]*qtdComprada[aux])\n",
        "  aux +=1\n",
        "print(f'\\nO valor total da conta foi de R$ {soma}')"
      ],
      "metadata": {
        "colab": {
          "base_uri": "https://localhost:8080/"
        },
        "id": "gs_dzGYG-lJv",
        "outputId": "c56832f0-053f-4b75-e0f6-077f380ec27d"
      },
      "execution_count": null,
      "outputs": [
        {
          "output_type": "stream",
          "name": "stdout",
          "text": [
            "Entre com a quantidade de Lanche: 2\n",
            "Entre com a quantidade de Refri: 1\n",
            "Entre com a quantidade de Batata: 1\n",
            "Entre com a quantidade de Bombom: 5\n",
            "\n",
            "O valor total da conta foi de R$ 52.5\n"
          ]
        }
      ]
    },
    {
      "cell_type": "code",
      "source": [
        "#Exercício 3\n",
        "#Faça um programa que pede para o usuário inserir um produto e salvar este produto numa lista.\n",
        "#Caso o produto já esteja na lista informe uma mensagem de erro e não cadastre o produto duplicado.\n",
        "\n",
        "lista_produtos = []\n",
        "\n",
        "aux = 0\n",
        "n = True\n",
        "\n",
        "while n:\n",
        "\n",
        "  if len(lista_produtos) == 0:\n",
        "    produto = input('Entre com o produto que deseja cadastrar: ')\n",
        "    lista_produtos.append(produto)\n",
        "    \n",
        "    continuar = input('Deseja continuar inserindo produtos?')\n",
        "    if  continuar == 's' or continuar == 'S':\n",
        "      n = True\n",
        "    else:\n",
        "      n = False \n",
        "    print('')\n",
        "  else:\n",
        "    produto = input('Entre com o produto que deseja cadastrar: ')\n",
        "  \n",
        "    for i in lista_produtos:\n",
        "      if produto == i:\n",
        "        aux = -1\n",
        "        break\n",
        "\n",
        "    if aux == -1:\n",
        "      print('Produto já cadastrado\\n')\n",
        "    else:\n",
        "      lista_produtos.append(produto)\n",
        "    \n",
        "    aux = 0\n",
        "    \n",
        "    continuar = input('Deseja continuar inserindo produtos?')\n",
        "    if  continuar == 's' or continuar == 'S':\n",
        "      n = True\n",
        "    else:\n",
        "      n = False \n",
        "    print('')\n",
        "\n",
        "print('\\n', lista_produtos)"
      ],
      "metadata": {
        "colab": {
          "base_uri": "https://localhost:8080/"
        },
        "id": "6U9fRTy4-vTX",
        "outputId": "1f8386e6-8cef-4752-b00e-69be941f9ed7"
      },
      "execution_count": null,
      "outputs": [
        {
          "output_type": "stream",
          "name": "stdout",
          "text": [
            "Entre com o produto que deseja cadastrar: Laranja\n",
            "Deseja continuar inserindo produtos?s\n",
            "\n",
            "Entre com o produto que deseja cadastrar: Frango\n",
            "Deseja continuar inserindo produtos?n\n",
            "\n",
            "\n",
            " ['Laranja', 'Frango']\n"
          ]
        }
      ]
    },
    {
      "cell_type": "markdown",
      "source": [
        "# Exercícios - Lista Composta"
      ],
      "metadata": {
        "id": "TJc74NA7Gwb8"
      }
    },
    {
      "cell_type": "code",
      "source": [
        "#Exercício 1\n",
        "#Dada a lista:\n",
        "\n",
        "#cardapio = [['Lanche', 10.9], ['Batata',  5.5], ['Refri' ,  3.9]]\n",
        "#Faça um programa que irá mostrar o cardápio do restaurante de forma organizada.\n",
        "\n",
        "cardapio = [['Lanche', 10.9], ['Batata',  5.5], ['Refri' ,  3.9]]\n",
        "\n",
        "print('{:-^46}'.format(''))\n",
        "print('{:-^46}'.format(' Cardápio '))\n",
        "print('{:-^46}'.format(''))\n",
        "\n",
        "\n",
        "for i in range(0,len(cardapio)):\n",
        "  for j in range(0,1):\n",
        "      print('{0:.<34} : R$  {1:5.2f}'.format(cardapio[i][j],cardapio[i][j+1]))\n",
        "\n",
        "print('{:-^46}'.format(''))"
      ],
      "metadata": {
        "colab": {
          "base_uri": "https://localhost:8080/"
        },
        "id": "6rzJylLSGzRk",
        "outputId": "8e3833a4-2c51-4c35-cff2-96a1f2af7753"
      },
      "execution_count": null,
      "outputs": [
        {
          "output_type": "stream",
          "name": "stdout",
          "text": [
            "----------------------------------------------\n",
            "------------------ Cardápio ------------------\n",
            "----------------------------------------------\n",
            "Lanche............................ : R$  10.90\n",
            "Batata............................ : R$   5.50\n",
            "Refri............................. : R$   3.90\n",
            "----------------------------------------------\n"
          ]
        }
      ]
    },
    {
      "cell_type": "code",
      "source": [
        "#Exercício 2\n",
        "#Faça um programa que irá mostrar item a item do cardápio para o usuário e irá perguntar quantos daquele item a pessoa quer comprar.\n",
        "\n",
        "#No final mostre a quantidade de cada item comprado e também o valor total da compra.\n",
        "\n",
        "cardapio = [['Lanche', 10.9], ['Batata',  5.5], ['Refri' ,  3.9]]\n",
        "\n",
        "print('{:-^46}'.format(''))\n",
        "print('{:-^46}'.format(' Cardápio '))\n",
        "print('{:-^46}'.format(''))\n",
        "\n",
        "\n",
        "for i in range(0,len(cardapio)):\n",
        "  for j in range(0,1):\n",
        "      print('{0:.<34} : R$  {1:5.2f}'.format(cardapio[i][j],cardapio[i][j+1]))\n",
        "\n",
        "print('{:-^46}'.format(''))\n",
        "print()\n",
        "quantidade = []\n",
        "\n",
        "soma = 0\n",
        "\n",
        "for i in cardapio:\n",
        "  quantidade.append(float(input(f'Quantos {i[0]} deseja? ')))\n",
        "print()\n",
        "c = 0\n",
        "for i,v in enumerate(cardapio):\n",
        "  soma += v[1]*quantidade[i]\n",
        "\n",
        "print('{0:''20}  {1}  {2} R$ {3}'.format('Produto','Quantidade', ' '*4, 'Total'))\n",
        "for i,v in enumerate(cardapio):\n",
        "  #print(cardapio[i][1]*quantidade[i])\n",
        "  print('{0:''20}  {1:5.2f}  {2:17.2f}'.format(cardapio[i][0],quantidade[i],cardapio[i][1]*quantidade[i]))\n",
        "\n",
        "print()\n",
        "print('{0:.<34} : R$ {1:6.2f}'.format('Valor da Conta',soma))"
      ],
      "metadata": {
        "colab": {
          "base_uri": "https://localhost:8080/"
        },
        "id": "hx0NGsTKG1Sc",
        "outputId": "a78d3f12-b26c-4854-d669-54ca62751234"
      },
      "execution_count": null,
      "outputs": [
        {
          "output_type": "stream",
          "name": "stdout",
          "text": [
            "----------------------------------------------\n",
            "------------------ Cardápio ------------------\n",
            "----------------------------------------------\n",
            "Lanche............................ : R$  10.90\n",
            "Batata............................ : R$   5.50\n",
            "Refri............................. : R$   3.90\n",
            "----------------------------------------------\n",
            "\n",
            "Quantos Lanche deseja? 3\n",
            "Quantos Batata deseja? 3\n",
            "Quantos Refri deseja? 1\n",
            "\n",
            "Produto               Quantidade       R$ Total\n",
            "Lanche                 3.00              32.70\n",
            "Batata                 3.00              16.50\n",
            "Refri                  1.00               3.90\n",
            "\n",
            "Valor da Conta.................... : R$  53.10\n"
          ]
        }
      ]
    },
    {
      "cell_type": "code",
      "source": [
        "#Faça um programa que o usuário cadastre algumas informações sobre clientes:\n",
        "#nome\n",
        "#email\n",
        "#telefone\n",
        "#idade\n",
        "#A seguir faça um sistema de pesquisa no qual o usuário digita o email e o sistema mostra todas as informações deste usuário.\n",
        "\n",
        "l1 = []\n",
        "dados = []\n",
        "check = True\n",
        "\n",
        "\n",
        "while check == True:\n",
        "  dados = [input('Entre com o nome: '), input('Entre com o e-mail: '), input('Entre com o Telefone: '), input('Entre com a Idade: ')]\n",
        "  l1.append(dados[:])\n",
        "  print()  \n",
        "  if (input('Deseja adicionar outro cadastro? (s/n)')) == 'n':\n",
        "    check = False\n",
        "    print()  \n",
        "\n",
        "busca = input('Entre com o e-mail: ')\n",
        "\n",
        "for i in l1:\n",
        "  if i[1] == busca:\n",
        "    dados = i\n",
        "    print(f'Nome: {i[0]}\\ne-mail: {i[1]}\\nTelefone: {i[2]}\\nIdade: {i[3]}')\n",
        "    break\n",
        "  else:\n",
        "    print('Dados não encontrados')"
      ],
      "metadata": {
        "colab": {
          "base_uri": "https://localhost:8080/"
        },
        "id": "fXQewmuUG7u9",
        "outputId": "18d0de16-5053-436d-f16b-331d31773053"
      },
      "execution_count": null,
      "outputs": [
        {
          "output_type": "stream",
          "name": "stdout",
          "text": [
            "Entre com o nome: William\n",
            "Entre com o e-mail: william@gmail.com\n",
            "Entre com o Telefone: 1442123\n",
            "Entre com a Idade: 28\n",
            "\n",
            "Deseja adicionar outro cadastro? (s/n)n\n",
            "\n",
            "Entre com o e-mail: william@gmail.com\n",
            "Nome: William\n",
            "e-mail: william@gmail.com\n",
            "Telefone: 1442123\n",
            "Idade: 28\n"
          ]
        }
      ]
    },
    {
      "cell_type": "markdown",
      "source": [
        "# Case 1 - Avaliação\n"
      ],
      "metadata": {
        "id": "y21AOLpZ8QVy"
      }
    },
    {
      "cell_type": "code",
      "source": [
        "area = [200,'null',720,1500,1000,275,'null',1200,2400,'null'] \n",
        "altura = ['null',30,40,30,10,25,33,'null',12,20] \n",
        "largura = [20,20,'null',50,100,'null',30,100,200,10]\n",
        "\n",
        "def preenche (a,b,h):\n",
        "  area_full = []\n",
        "  largura_full = []\n",
        "  altura_full = []\n",
        "  for area,largura,altura zip(a,b,h):\n",
        "    if type(area)!= int:\n",
        "      area_full.append(largura*altura))\n",
        "    else: \n",
        "      area_full.append(area)\n",
        "    if type(largura)!= \n"
      ],
      "metadata": {
        "id": "OSTLGVWu8R7i"
      },
      "execution_count": null,
      "outputs": []
    },
    {
      "cell_type": "markdown",
      "source": [
        "# Case 2 - Avaliação\n"
      ],
      "metadata": {
        "id": "j4sBV_s1Wb9r"
      }
    },
    {
      "cell_type": "code",
      "source": [
        "#Você recebeu um arquivo chamado usuarios_feedback, nesse arquivo contém o comentário, nome, gênero e nota de usuários referente a um produto de sua empresas.\n",
        "#Você precisa verificar quais as palavras que mais apareceram nos comentários:\n",
        "  usuarios_feedback = [{'nome':'Peter','nota':9,'genero':'M','comentario':'bom demais e agil'}, \n",
        "                       {'nome':'Joao','nota':10,'genero':'M','comentario':'agil e eficiente'},\n",
        "                       {'nome':'user_not_found','nota':0,'genero':'M','comentario':'Horrível'},\n",
        "                       {'nome':'Marta','nota':10,'genero':'F','comentario':'muito agil bom demais'},\n",
        "                       {'nome':'Beatriz','nota':10,'genero':'F','comentario':'rápido e eficaz'},\n",
        "                       {'nome':'user_not_found','nota':2,'genero':'M','comentario':'ruim'},\n",
        "                       {'nome':'Jéssica','nota':10,'genero':'F','comentario':'agil'},\n",
        "                       {'nome':'José','nota':7,'genero':'M','comentario':'ok'},\n",
        "                       {'nome':'Elias','nota':5,'genero':'M','comentario':'precisa melhorar'},\n",
        "                       {'nome':'Miriã','nota':9,'genero':'F','comentario':'foi muito agil e rápido'},\n",
        "                       {'nome':'Maria','nota':10,'genero':'F','comentario':'muito bom e agil'}]"
      ],
      "metadata": {
        "id": "SixYYuvhWhEU"
      },
      "execution_count": null,
      "outputs": []
    },
    {
      "cell_type": "code",
      "source": [
        "#Usando o mesmo arquivo, calcular a média das notas separadas por gênero: \n",
        "usuarios_feedback = [{'nome':'Peter','nota':9,'genero':'M','comentario':'bom demais e agil'}, \n",
        "                     {'nome':'Joao','nota':10,'genero':'M','comentario':'agil e eficiente'}, \n",
        "                     {'nome':'user_not_found','nota':0,'genero':'M','comentario':'Horrível'}, \n",
        "                     {'nome':'Marta','nota':10,'genero':'F','comentario':'muito agil bom demais'}, \n",
        "                     {'nome':'Beatriz','nota':10,'genero':'F','comentario':'rápido e eficaz'}, \n",
        "                     {'nome':'user_not_found','nota':2,'genero':'M','comentario':'ruim'}, \n",
        "                     {'nome':'Jéssica','nota':10,'genero':'F','comentario':'agil'}, \n",
        "                     {'nome':'José','nota':7,'genero':'M','comentario':'ok'},\n",
        "                     {'nome':'Elias','nota':5,'genero':'M','comentario':'precisa melhorar'}, \n",
        "                     {'nome':'Miriã','nota':9,'genero':'F','comentario':'foi muito agil e rápido'},\n",
        "                     {'nome':'Maria','nota':10,'genero':'F','comentario':'muito bom e agil'}]"
      ],
      "metadata": {
        "id": "pg0UobaFXPho"
      },
      "execution_count": null,
      "outputs": []
    },
    {
      "cell_type": "markdown",
      "source": [
        "# Case 3 - Avaliação"
      ],
      "metadata": {
        "id": "NltFCYu7XtUY"
      }
    },
    {
      "cell_type": "code",
      "source": [
        "#Sua empresa te passou uma lista com requisições de treinamentos (muitos repetidos), \n",
        "#você tem que definir o cenário que melhor atenda os pedidos, \n",
        "#o budget é de 150 moedas e você tem um dicionário que contém o nome do treinamento e o valor dele:\n",
        " treinamentos = [{'treinamento':'Scrum','moedas':30}, \n",
        "                 {'treinamento':'Data Science','moedas':40}, \n",
        "                 {'treinamento':'Gestão de Projetos','moedas':50}, \n",
        "                 {'treinamento':'Marketing','moedas':30},\n",
        "                 {'treinamento':'Cloud','moedas':20}, \n",
        "                 {'treinamento':'Blockchain','moedas':10}, \n",
        "                 {'treinamento':'Python','moedas':30}] \n",
        "pedidos = ['Scrum','Data Science','Gestão de Projetos','Marketing','Cloud',\n",
        "           'Python','Python','Python', 'Scrum','Data Science','Gestão de Projetos',\n",
        "           'Marketing','Data Science','Gestão de Projetos', 'Python','Marketing',\n",
        "           'Data Science','Gestão de Projetos','Data Science','Gestão de Projetos','Data Science']"
      ],
      "metadata": {
        "id": "3c6nOVsfXvpP"
      },
      "execution_count": null,
      "outputs": []
    },
    {
      "cell_type": "markdown",
      "source": [
        "# ASSIGNMENT 1"
      ],
      "metadata": {
        "id": "L47kCjQMHehJ"
      }
    },
    {
      "cell_type": "code",
      "source": [
        "a =['dnc','abc','bnc','mnc','dnc','bnc','Dnc','ncd','dnc','dncdnc','ddnc']\n",
        "print(a[5])"
      ],
      "metadata": {
        "colab": {
          "base_uri": "https://localhost:8080/"
        },
        "id": "gphrneFOHeNZ",
        "outputId": "5cc69b09-1677-446e-d6d5-9feb66b8a434"
      },
      "execution_count": null,
      "outputs": [
        {
          "output_type": "stream",
          "name": "stdout",
          "text": [
            "bnc\n"
          ]
        }
      ]
    }
  ]
}